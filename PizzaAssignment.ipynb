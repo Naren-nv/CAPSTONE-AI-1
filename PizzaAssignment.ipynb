{
  "nbformat": 4,
  "nbformat_minor": 0,
  "metadata": {
    "colab": {
      "provenance": [],
      "authorship_tag": "ABX9TyOV9h/QchMiS9a801GDPiDG",
      "include_colab_link": true
    },
    "kernelspec": {
      "name": "python3",
      "display_name": "Python 3"
    },
    "language_info": {
      "name": "python"
    }
  },
  "cells": [
    {
      "cell_type": "markdown",
      "metadata": {
        "id": "view-in-github",
        "colab_type": "text"
      },
      "source": [
        "<a href=\"https://colab.research.google.com/github/Naren-nv/CAPSTONE-AI-1/blob/main/PizzaAssignment.ipynb\" target=\"_parent\"><img src=\"https://colab.research.google.com/assets/colab-badge.svg\" alt=\"Open In Colab\"/></a>"
      ]
    },
    {
      "cell_type": "markdown",
      "source": [
        "Assignment 1 - Pizza\n",
        "By\n",
        "Narendranathan veeraragavan - 100888948"
      ],
      "metadata": {
        "id": "dHqRl2R4vtq2"
      }
    },
    {
      "cell_type": "code",
      "execution_count": 2,
      "metadata": {
        "id": "p9kguxYVrmDV"
      },
      "outputs": [],
      "source": [
        "class Pizza:\n",
        "    # Class-level collections for sizes and prices\n",
        "    valid_sizes = ['small', 'medium', 'large', 'x-large']\n",
        "    size_prices = {\n",
        "        'small': 6.49,\n",
        "        'medium': 8.49,\n",
        "        'large': 10.49,\n",
        "        'x-large': 13.49\n",
        "    }\n",
        "\n",
        "    def __init__(self, size='medium', toppings=['cheese']):\n",
        "        # Verify and set the pizza size\n",
        "        self.size = size\n",
        "\n",
        "        # Create an instance attribute for toppings\n",
        "        self.__toppings = toppings\n",
        "\n",
        "    def add(self, toppings):\n",
        "        # Add additional toppings to the list\n",
        "        self.__toppings.extend(toppings)\n",
        "\n",
        "    def __str__(self):\n",
        "        # Format the pizza description\n",
        "        toppings_str = ', '.join(self.__toppings)\n",
        "        return f'{self.__size} pizza with [{toppings_str}] for ${self.price:.2f}'\n",
        "\n",
        "    @property\n",
        "    def price(self):\n",
        "        # Calculate the price based on size and number of toppings\n",
        "        base_price = self.size_prices[self.__size]\n",
        "        additional_cost = len(self.__toppings) * 0.50\n",
        "        return base_price + additional_cost\n",
        "\n",
        "    @property\n",
        "    def size(self):\n",
        "        return self.__size\n",
        "\n",
        "    @size.setter\n",
        "    def size(self, new_size):\n",
        "        # Verify and set the pizza size\n",
        "        if new_size in self.valid_sizes:\n",
        "            self.__size = new_size\n",
        "        else:\n",
        "            raise ValueError(f'ERROR: {new_size} is not a valid size for a pizza')\n",
        "\n",
        "\n",
        "\n"
      ]
    },
    {
      "cell_type": "code",
      "source": [
        "# Test harness\n",
        "print(f'Creating a default pizza')\n",
        "p = Pizza()\n",
        "print(p)\n",
        "\n",
        "toppings = 'cheese olive'.split()\n",
        "print(f'\\nAdding topping: {toppings}')\n",
        "p.add(toppings=toppings)\n",
        "print(p)\n",
        "\n",
        "print(f'\\nCreating a new pizza')\n",
        "p = Pizza('large', 'cheese pepper'.split())\n",
        "print(p)\n",
        "\n",
        "toppings = ['pineapple', 'mushroom']\n",
        "print(f'\\nAdding topping: {toppings}')\n",
        "p.add(toppings)\n",
        "print(p)\n",
        "\n",
        "size = 'x-large'\n",
        "p.size = size\n",
        "print(f'\\nChanging order size to {size}')\n",
        "print(p)\n",
        "\n",
        "size = 'gigantic'\n",
        "print(f'\\nChanging order size to {size}')\n",
        "try:\n",
        "  p.size = size\n",
        "except ValueError as err:\n",
        "  print(err)"
      ],
      "metadata": {
        "colab": {
          "base_uri": "https://localhost:8080/"
        },
        "id": "g2q69l9es3K7",
        "outputId": "b6dd2782-67c6-4a8a-c04e-ab9cf57133bb"
      },
      "execution_count": 3,
      "outputs": [
        {
          "output_type": "stream",
          "name": "stdout",
          "text": [
            "Creating a default pizza\n",
            "medium pizza with [cheese] for $8.99\n",
            "\n",
            "Adding topping: ['cheese', 'olive']\n",
            "medium pizza with [cheese, cheese, olive] for $9.99\n",
            "\n",
            "Creating a new pizza\n",
            "large pizza with [cheese, pepper] for $11.49\n",
            "\n",
            "Adding topping: ['pineapple', 'mushroom']\n",
            "large pizza with [cheese, pepper, pineapple, mushroom] for $12.49\n",
            "\n",
            "Changing order size to x-large\n",
            "x-large pizza with [cheese, pepper, pineapple, mushroom] for $15.49\n",
            "\n",
            "Changing order size to gigantic\n",
            "ERROR: gigantic is not a valid size for a pizza\n"
          ]
        }
      ]
    }
  ]
}